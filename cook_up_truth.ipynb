{
 "cells": [
  {
   "cell_type": "code",
   "execution_count": null,
   "id": "3196a895-8cf5-4a98-8ef4-140dc652af22",
   "metadata": {},
   "outputs": [],
   "source": [
    "import os \n",
    "import pyemu\n",
    "import pandas as pd"
   ]
  },
  {
   "cell_type": "code",
   "execution_count": null,
   "id": "6e61123f-6922-4783-9ed3-4ab795b5f32a",
   "metadata": {},
   "outputs": [],
   "source": [
    "pst=pyemu.Pst('template/freyberg.pst')"
   ]
  },
  {
   "cell_type": "code",
   "execution_count": null,
   "id": "de2563dd-a146-4214-b263-c09cc27fd0f6",
   "metadata": {},
   "outputs": [],
   "source": [
    "obs=pst.observation_data"
   ]
  },
  {
   "cell_type": "code",
   "execution_count": null,
   "id": "c2af3900-6f89-4d50-9c34-1c0c08efdba1",
   "metadata": {},
   "outputs": [],
   "source": [
    "obs"
   ]
  },
  {
   "cell_type": "code",
   "execution_count": null,
   "id": "ed061328-481b-4583-9af2-fafd8ce07581",
   "metadata": {},
   "outputs": [],
   "source": [
    "truth = pd.read_csv('data/truth.obs_data.csv')"
   ]
  },
  {
   "cell_type": "code",
   "execution_count": null,
   "id": "88bb2399-ffb0-464b-b5aa-c5502633f7f7",
   "metadata": {},
   "outputs": [],
   "source": [
    "truth"
   ]
  },
  {
   "cell_type": "code",
   "execution_count": null,
   "id": "0272941e-0e4f-49ad-9c94-04fb6dc939d2",
   "metadata": {
    "scrolled": true
   },
   "outputs": [],
   "source": [
    "dfs = []\n",
    "for i in range(len(obs)):\n",
    "    print (truth.loc[((truth.time == float(obs.iloc[i,7])) &\n",
    "           (truth.usecol ==  obs.iloc[i,6]) & \n",
    "           (truth.oname=='hds')), 'obsval'].values[0])\n",
    "    obs.iloc[i,1] = truth.loc[((truth.time == float(obs.iloc[i,7])) &\n",
    "           (truth.usecol ==  obs.iloc[i,6]) & \n",
    "           (truth.oname=='hds')), 'obsval'].values[0]\n",
    "    dfs.append(pd.DataFrame(data={'time':[float(obs.iloc[i,7])],\n",
    "                                      'location':[obs.iloc[i,6]],\n",
    "                                        'observation': [truth.loc[((truth.time == float(obs.iloc[i,7])) &\n",
    "                                       (truth.usecol ==  obs.iloc[i,6]) & \n",
    "                                       (truth.oname=='hds')), 'obsval'].values[0]]}))\n",
    "                                "
   ]
  },
  {
   "cell_type": "code",
   "execution_count": null,
   "id": "639c43f1-cce5-4776-b10a-ddced271c5f7",
   "metadata": {},
   "outputs": [],
   "source": [
    "obstrue = pd.concat(dfs)"
   ]
  },
  {
   "cell_type": "code",
   "execution_count": null,
   "id": "365e1ca9-99b2-40c6-a961-23342efc0961",
   "metadata": {},
   "outputs": [],
   "source": [
    "obstrue"
   ]
  },
  {
   "cell_type": "code",
   "execution_count": null,
   "id": "b91d6bcc-fd2a-46ad-a588-6d523bae615f",
   "metadata": {},
   "outputs": [],
   "source": [
    "obstrue.to_csv('data/obstrue.csv')"
   ]
  },
  {
   "cell_type": "code",
   "execution_count": null,
   "id": "7be918da-b587-4030-a472-3cca8fe2153d",
   "metadata": {},
   "outputs": [],
   "source": []
  }
 ],
 "metadata": {
  "kernelspec": {
   "display_name": "Python 3 (ipykernel)",
   "language": "python",
   "name": "python3"
  },
  "language_info": {
   "codemirror_mode": {
    "name": "ipython",
    "version": 3
   },
   "file_extension": ".py",
   "mimetype": "text/x-python",
   "name": "python",
   "nbconvert_exporter": "python",
   "pygments_lexer": "ipython3",
   "version": "3.10.12"
  }
 },
 "nbformat": 4,
 "nbformat_minor": 5
}

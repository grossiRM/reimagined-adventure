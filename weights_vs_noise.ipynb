{
 "cells": [
  {
   "cell_type": "code",
   "execution_count": null,
   "id": "63479151-79ca-4e57-a8b0-2d53dfe2c65f",
   "metadata": {},
   "outputs": [],
   "source": [
    "import matplotlib.pyplot as plt\n",
    "import numpy as np"
   ]
  },
  {
   "cell_type": "code",
   "execution_count": null,
   "id": "16db1984-7893-41c7-96b1-5dea91aeea56",
   "metadata": {},
   "outputs": [],
   "source": [
    "modeled = np.random.normal(loc=5, scale=1, size=500)"
   ]
  },
  {
   "cell_type": "code",
   "execution_count": null,
   "id": "49168b3d-caf5-497d-824e-b37dfcb2fa02",
   "metadata": {},
   "outputs": [],
   "source": [
    "truth1 = 6\n",
    "plt.hist(modeled, bins=50, label='modeled')\n",
    "plt.axvline(truth1, lw=2, c='orange', label='observed')\n",
    "plt.legend()\n",
    "plt.title('Fit With No Observation Noise')\n",
    "plt.xlim([-10,25])\n",
    "plt.yticks([])"
   ]
  },
  {
   "cell_type": "code",
   "execution_count": null,
   "id": "eb6749ec-09a8-4dd7-8022-3863494ded5f",
   "metadata": {},
   "outputs": [],
   "source": [
    "truth2 = 11\n",
    "plt.hist(modeled, bins=50, label='modeled');\n",
    "plt.axvline(truth2, lw=2, c='orange', label='observed')\n",
    "plt.legend()\n",
    "plt.title('Fit With No Observation Noise: PRIOR DATA CONFLICT')\n",
    "plt.xlim([-10,25])\n",
    "plt.yticks([])"
   ]
  },
  {
   "cell_type": "markdown",
   "id": "b52dbf1e-3733-460b-852a-bd1063183552",
   "metadata": {},
   "source": [
    "## what if set an observation weight for the obs? Based on general background, we assume \n",
    "## $\\omega \\approx \\frac{1}{\\sigma}$\n",
    "\n",
    "## so, sampling the noise around the obsevation results in \n",
    "## $\\sigma = \\frac{1}{\\omega}$\n",
    "\n",
    "## so if this is a head observation, \n",
    "## $\\sigma=0.5m$ is a reasonable starting point might be $\\omega=\\frac{1}{.5}=2.0$\n"
   ]
  },
  {
   "cell_type": "code",
   "execution_count": null,
   "id": "e565e031-d3fb-4af9-91a8-97c29f937a32",
   "metadata": {},
   "outputs": [],
   "source": [
    "obs = np.random.normal(loc=truth1, scale=.5, size=500)\n",
    "plt.hist(modeled, bins=50, label='modeled')\n",
    "plt.hist(obs, color='orange', bins=50, label='observed')\n",
    "plt.legend()\n",
    "plt.title('Fit With Observation Noise')\n",
    "plt.xlim([-10,25])\n",
    "plt.yticks([])"
   ]
  },
  {
   "cell_type": "code",
   "execution_count": null,
   "id": "5816161e-5e6c-4369-9660-435f17d80f04",
   "metadata": {},
   "outputs": [],
   "source": [
    "obs = np.random.normal(loc=truth2, scale=.5, size=500)\n",
    "plt.hist(modeled, bins=50, label='modeled');\n",
    "plt.hist(obs, color='orange', bins=50, label='observed')\n",
    "plt.legend()\n",
    "plt.title('Fit With No Observation Noise')\n",
    "plt.xlim([-10,25])\n",
    "plt.yticks([])"
   ]
  },
  {
   "cell_type": "markdown",
   "id": "fcedc304-a18a-4fc4-bbb6-3c8b544b0bc5",
   "metadata": {},
   "source": [
    "## all good, but what if we adjust weights to balance the objective function? This is a common approach and perfectly defensible, but say we decrease the weight on the heads quite a bit. is $\\omega \\approx \\frac{1}{\\sigma}$ still valid?\n",
    "\n",
    "## if we adjust $\\omega$ to be $0.2$ then $\\sigma = \\frac{1}{\\omega} = \\frac{1}{0.2} = 5.0$"
   ]
  },
  {
   "cell_type": "code",
   "execution_count": null,
   "id": "92d3fd73-5213-40a0-b356-7ad3cdf237ce",
   "metadata": {},
   "outputs": [],
   "source": [
    "obs = np.random.normal(loc=truth2, scale=.5, size=500)\n",
    "obs2 = np.random.normal(loc=truth2, scale=5, size=500)\n",
    "plt.hist(modeled, bins=50, label='modeled');\n",
    "plt.hist(obs, color='orange', bins=50, label=\"observed $\\\\sigma$\")\n",
    "plt.hist(obs2, color='green', bins=50, label=\"observed $\\\\frac{1}{\\\\omega}$\", alpha=.3)\n",
    "\n",
    "plt.legend()\n",
    "plt.title('Fit With Observation Noise Two Ways')\n",
    "plt.xlim([-10,25])\n",
    "plt.yticks([])"
   ]
  },
  {
   "cell_type": "code",
   "execution_count": null,
   "id": "5bd20c7d-f38f-4d79-9740-ab0fca2a2523",
   "metadata": {},
   "outputs": [],
   "source": []
  }
 ],
 "metadata": {
  "kernelspec": {
   "display_name": "Python 3 (ipykernel)",
   "language": "python",
   "name": "python3"
  },
  "language_info": {
   "codemirror_mode": {
    "name": "ipython",
    "version": 3
   },
   "file_extension": ".py",
   "mimetype": "text/x-python",
   "name": "python",
   "nbconvert_exporter": "python",
   "pygments_lexer": "ipython3",
   "version": "3.10.12"
  }
 },
 "nbformat": 4,
 "nbformat_minor": 5
}

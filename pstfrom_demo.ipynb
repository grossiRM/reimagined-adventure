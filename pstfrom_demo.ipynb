{
 "cells": [
  {
   "cell_type": "code",
   "execution_count": null,
   "id": "3196a895-8cf5-4a98-8ef4-140dc652af22",
   "metadata": {},
   "outputs": [],
   "source": [
    "import os \n",
    "import pyemu"
   ]
  },
  {
   "cell_type": "code",
   "execution_count": null,
   "id": "b8e5c9d8-d752-4d47-9d54-102e157405f9",
   "metadata": {},
   "outputs": [],
   "source": [
    "model_ws = os.path.join('monthly_model_files_1lyr_newstress')"
   ]
  },
  {
   "cell_type": "code",
   "execution_count": null,
   "id": "f41ca685-7b89-433b-8b60-3f570a90a128",
   "metadata": {},
   "outputs": [],
   "source": [
    "pyemu.os_utils.run('mf6',cwd=model_ws)"
   ]
  },
  {
   "cell_type": "code",
   "execution_count": null,
   "id": "ac01e3bd-e015-498b-bb49-d4dc0317618c",
   "metadata": {},
   "outputs": [],
   "source": [
    "pf = pyemu.utils.PstFrom(model_ws,'template',remove_existing=True)"
   ]
  },
  {
   "cell_type": "code",
   "execution_count": null,
   "id": "1c4a6c9e-77ef-4f46-95da-cbdf9ae3b2f6",
   "metadata": {},
   "outputs": [],
   "source": [
    "pf.add_parameters('freyberg6.npf_k_layer1.txt',par_type='grid')"
   ]
  },
  {
   "cell_type": "code",
   "execution_count": null,
   "id": "cf45d683-47e8-4aa2-bc3d-3e8bec990fd2",
   "metadata": {},
   "outputs": [],
   "source": [
    "pf.add_observations('heads.csv',index_cols='time',use_cols='TRGW-0-2-15')"
   ]
  },
  {
   "cell_type": "code",
   "execution_count": null,
   "id": "f8d89593-8248-4487-a428-42f787845fab",
   "metadata": {},
   "outputs": [],
   "source": [
    "pf.mod_sys_cmds.append('mf6')"
   ]
  },
  {
   "cell_type": "code",
   "execution_count": null,
   "id": "6c7a8e4e-a44f-4c02-a30e-74a291c40dd4",
   "metadata": {},
   "outputs": [],
   "source": [
    "pf.build_pst(filename=os.path.join(pf.new_d,'freyberg.pst'),version=2)"
   ]
  },
  {
   "cell_type": "code",
   "execution_count": null,
   "id": "ef886340-7d65-4025-871a-f3877b5b0238",
   "metadata": {},
   "outputs": [],
   "source": [
    "pyemu.os_utils.run('pestpp-ies freyberg.pst',cwd='template')"
   ]
  },
  {
   "cell_type": "code",
   "execution_count": null,
   "id": "ed061328-481b-4583-9af2-fafd8ce07581",
   "metadata": {},
   "outputs": [],
   "source": []
  }
 ],
 "metadata": {
  "kernelspec": {
   "display_name": "Python 3 (ipykernel)",
   "language": "python",
   "name": "python3"
  },
  "language_info": {
   "codemirror_mode": {
    "name": "ipython",
    "version": 3
   },
   "file_extension": ".py",
   "mimetype": "text/x-python",
   "name": "python",
   "nbconvert_exporter": "python",
   "pygments_lexer": "ipython3",
   "version": "3.10.12"
  }
 },
 "nbformat": 4,
 "nbformat_minor": 5
}
